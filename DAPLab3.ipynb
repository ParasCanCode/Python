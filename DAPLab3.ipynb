{
 "cells": [
  {
   "cell_type": "code",
   "execution_count": 1,
   "metadata": {},
   "outputs": [
    {
     "name": "stdout",
     "output_type": "stream",
     "text": [
      "15\n",
      "-8\n"
     ]
    }
   ],
   "source": [
    "def mul_by_num(num):\n",
    "\n",
    "    return (lambda x : num*x)\n",
    "\n",
    "x = mul_by_num(5)\n",
    "y = mul_by_num(2)\n",
    "print(x(3))\n",
    "print(y(-4))"
   ]
  },
  {
   "cell_type": "code",
   "execution_count": 36,
   "metadata": {},
   "outputs": [
    {
     "name": "stdout",
     "output_type": "stream",
     "text": [
      "[0, 1, 1, 2, 3, 5, 8, 13, 21, 34, 55, 89, 144]\n",
      "\n",
      "Execution time :  0.0\n"
     ]
    }
   ],
   "source": [
    "import time\n",
    "def fib(n):\n",
    "    list = [0,1]\n",
    "    for i in range(0,n-2):\n",
    "        list.append(sum(list[-2:]))\n",
    "    print(list)    \n",
    "\n",
    "        \n",
    "start = time.time()        \n",
    "fib(13) \n",
    "end = time.time()\n",
    "exectime = end-start\n",
    "print(\"\\nExecution time : \",exectime)        \n"
   ]
  },
  {
   "cell_type": "code",
   "execution_count": 39,
   "metadata": {},
   "outputs": [
    {
     "name": "stdout",
     "output_type": "stream",
     "text": [
      "False\n",
      "[0, 1, 1, 2, 3, 5, 8, 13, 21, 34]\n"
     ]
    }
   ],
   "source": [
    "\n",
    "def myFunc(num):\n",
    "    list = [0,1]\n",
    "    print(any(map(lambda _ : list.append(sum(list[-2:])),range(2,num))))\n",
    "    #print(len(fibo)\n",
    "    print(list)\n",
    "\n",
    "myFunc(10)"
   ]
  },
  {
   "cell_type": "code",
   "execution_count": 12,
   "metadata": {},
   "outputs": [
    {
     "name": "stdout",
     "output_type": "stream",
     "text": [
      "[1]\n",
      "[1, 1]\n",
      "[1, 2, 1]\n",
      "[1, 3, 3, 1]\n",
      "[1, 4, 6, 4, 1]\n",
      "[1, 5, 10, 10, 5, 1]\n"
     ]
    }
   ],
   "source": [
    "def pascal_triangle(n):\n",
    "    row = [1]\n",
    "    y = [0]\n",
    "    for x in range(0,n):\n",
    "        print(row)\n",
    "        row=[l+r for l,r in zip(row+y, y+row)]\n",
    "pascal_triangle(6) "
   ]
  },
  {
   "cell_type": "code",
   "execution_count": 38,
   "metadata": {},
   "outputs": [
    {
     "name": "stdout",
     "output_type": "stream",
     "text": [
      "\n",
      "1\t\n",
      "1\t1\t\n",
      "1\t2\t1\t\n",
      "1\t3\t3\t1\t\n",
      "1\t4\t6\t4\t1\t\n",
      "1\t5\t10\t10\t5\t1\t\n",
      "1\t6\t15\t20\t15\t6\t1\t\n",
      "\n",
      "Execution time :  0.0\n"
     ]
    }
   ],
   "source": [
    "import time\n",
    "# Pascal function \n",
    "def printPascal(n): \n",
    "\n",
    "    for i in range(0,n+1): \n",
    "        x = 1\n",
    "        for j in range(1, i+1): \n",
    "            print(x, end = \"\\t\")\n",
    "            x = int(x * (i - j) / j)\n",
    "        print(end=\"\\n\"); \n",
    "\n",
    "\n",
    "start = time.time()        \n",
    "printPascal(7) \n",
    "end = time.time()\n",
    "exectime = end-start\n",
    "print(\"\\nExecution time : \",exectime)      "
   ]
  },
  {
   "cell_type": "code",
   "execution_count": 41,
   "metadata": {},
   "outputs": [
    {
     "name": "stdout",
     "output_type": "stream",
     "text": [
      "gws\n",
      "\n",
      "Date: Fri, 25 Oct 2019 01:13:01 GMT\n",
      "Expires: -1\n",
      "Cache-Control: private, max-age=0\n",
      "Content-Type: text/html; charset=ISO-8859-1\n",
      "P3P: CP=\"This is not a P3P policy! See g.co/p3phelp for more info.\"\n",
      "Server: gws\n",
      "X-XSS-Protection: 0\n",
      "X-Frame-Options: SAMEORIGIN\n",
      "Set-Cookie: 1P_JAR=2019-10-25-01; expires=Sun, 24-Nov-2019 01:13:01 GMT; path=/; domain=.google.com; SameSite=none\n",
      "Set-Cookie: NID=190=m89XH-rNdffG0zamRcGPU8YQud1ltFWRTNinUPLH4w-BZMkTNoUHNU6NrFHCnWW3nn8YdvvR4X0lDMW7mf3yCTEU0Db9k5W20K0hPf0xz5moTqGSKBFaBN415us4mAtV7tlGU7EKlDv_LpvbS59QFMykqJxdRsuylKerX9yCdGU; expires=Sat, 25-Apr-2020 01:13:01 GMT; path=/; domain=.google.com; HttpOnly\n",
      "Alt-Svc: quic=\":443\"; ma=2592000; v=\"46,43\",h3-Q048=\":443\"; ma=2592000,h3-Q046=\":443\"; ma=2592000,h3-Q043=\":443\"; ma=2592000\n",
      "Accept-Ranges: none\n",
      "Vary: Accept-Encoding\n",
      "Connection: close\n",
      "\n",
      "\n"
     ]
    }
   ],
   "source": [
    "import urllib.request as req\n",
    "response = req.urlopen(\"https://www.google.com\")\n",
    "print(response.info()[\"server\"])\n",
    "if(response.info()[\"server\"]):\n",
    "    print(\"\\n{}\".format(response.info()))\n",
    "else:\n",
    "    print(\"Error\")"
   ]
  },
  {
   "cell_type": "code",
   "execution_count": 6,
   "metadata": {},
   "outputs": [
    {
     "name": "stdout",
     "output_type": "stream",
     "text": [
      "Enter city: dublin\n",
      "\n",
      "Temperature: 6.78°C\n",
      "Wind speed: 3.6 m/s\n",
      "Description: broken clouds\n",
      "Weather: Clouds\n"
     ]
    }
   ],
   "source": [
    "import urllib.request as req\n",
    "import json\n",
    "city = input(\"Enter city: \")\n",
    "response  = req.urlopen(\"http://api.openweathermap.org/data/2.5/weather?q=\"+city+\"&appid=b35975e18dc93725acb092f7272cc6b8\")\n",
    "#print(response)\n",
    "html = response.read()\n",
    "#print(html)\n",
    "parsed_html = json.loads(html)\n",
    "#print(parsed_html)\n",
    "#print(parsed_html[\"weather\"])\n",
    "#print(parsed_html[\"weather\"][0])\n",
    "temp,speed,desc,weather = parsed_html[\"main\"][\"temp\"],parsed_html[\"wind\"][\"speed\"],parsed_html[\"weather\"][0][\"description\"],parsed_html[\"weather\"][0][\"main\"]\n",
    "str = \"\\nTemperature: {:.2f}\\u00B0C\\nWind speed: {} m/s\\nDescription: {}\\nWeather: {}\".format((temp-273.15),speed,desc,weather)\n",
    "print(str)"
   ]
  },
  {
   "cell_type": "code",
   "execution_count": 40,
   "metadata": {},
   "outputs": [
    {
     "name": "stdout",
     "output_type": "stream",
     "text": [
      "Task successfully completed!\n"
     ]
    }
   ],
   "source": [
    "()import xml.etree.ElementTree as ET\n",
    "import csv\n",
    "userList = [[\"Firstname\",\"Lastname\",\"Phone\",\"Age\"]]\n",
    "with open(\"people.xml\") as f:\n",
    "    xml_data = f.read()\n",
    "f.close()\n",
    "#print(xml_data)\n",
    "tree = ET.fromstring(xml_data)\n",
    "#print(tree)\n",
    "userTree = tree.findall(\"person\")\n",
    "for item in userTree:\n",
    "    userList.append([item.find(\"firstname\").text,item.find(\"lastname\").text,item.find(\"phone\").text,item.find(\"age\").text])\n",
    "    \n",
    "#print(userList)  \n",
    "\n",
    "with open(\"UserList.csv\",mode=\"w\",newline=\"\") as f:\n",
    "    writer = csv.writer(f)\n",
    "    writer.writerows(userList)\n",
    "f.close()\n",
    "\n",
    "#print(userList)\n",
    "\n",
    "userDict = {}\n",
    "newList = []\n",
    "\n",
    "for i in range(len(userList)):\n",
    "    \n",
    "    if i+1==len(userList):\n",
    "        break\n",
    "    else:\n",
    "        userDict[userList[0][0]]=userList[i+1][0]\n",
    "        userDict[userList[0][1]]=userList[i+1][1]\n",
    "        userDict[userList[0][2]]=userList[i+1][2]\n",
    "        userDict[userList[0][3]]=userList[i+1][3]\n",
    "        #print(userDict)\n",
    "        newList.append(str(userDict))\n",
    "        \n",
    "#print(newList) \n",
    "\n",
    "with open(\"UserList.json\",mode=\"w\") as f:\n",
    "    f.write(str(newList))\n",
    "f.close()    \n",
    "print(\"Task successfully completed!\")\n",
    "\n"
   ]
  },
  {
   "cell_type": "code",
   "execution_count": 36,
   "metadata": {},
   "outputs": [
    {
     "name": "stdout",
     "output_type": "stream",
     "text": [
      "{'Name': 'Sample Name7', 'PhoneNumber': '1234567891', 'EmailAddress': 'sample_name1@example.com', 'Address': ['Current Address', 'Los Angeles', 'CA', '56666']}\n"
     ]
    }
   ],
   "source": [
    "import xml.etree.ElementTree as ET\n",
    "import csv\n",
    "\n",
    "tree = ET.parse(\"people_dap.xml\")\n",
    "root = tree.getroot()\n",
    "#print(root)\n",
    "# open a file for writing\n",
    "\n",
    "Resident_data = open('residentData.csv', 'w')\n",
    "\n",
    "# create the csv writer object\n",
    "\n",
    "csvwriter = csv.writer(Resident_data)\n",
    "resident_head = []\n",
    "\n",
    "count = 0\n",
    "for member in root.findall('Resident'):\n",
    "    resident = []\n",
    "    address_list = []\n",
    "    if count == 0:\n",
    "        name = member.find('Name').tag\n",
    "        resident_head.append(name)\n",
    "        PhoneNumber = member.find('PhoneNumber').tag\n",
    "        resident_head.append(PhoneNumber)\n",
    "        EmailAddress = member.find('EmailAddress').tag\n",
    "        resident_head.append(EmailAddress)\n",
    "        Address = member[3].tag\n",
    "        resident_head.append(Address)\n",
    "        csvwriter.writerow(resident_head)\n",
    "        count = count + 1\n",
    "\n",
    "    name = member.find('Name').text\n",
    "    resident.append(name)\n",
    "    PhoneNumber = member.find('PhoneNumber').text\n",
    "    resident.append(PhoneNumber)\n",
    "    EmailAddress = member.find('EmailAddress').text\n",
    "    resident.append(EmailAddress)\n",
    "    Address = member[3][0].text\n",
    "    address_list.append(Address)\n",
    "    City = member[3][1].text\n",
    "    address_list.append(City)\n",
    "    StateCode = member[3][2].text\n",
    "    address_list.append(StateCode)\n",
    "    PostalCode = member[3][3].text\n",
    "    address_list.append(PostalCode)\n",
    "    resident.append(address_list)\n",
    "    csvwriter.writerow(resident)\n",
    "Resident_data.close()\n",
    "\n",
    "\n",
    "\n",
    "\n",
    "myDict = {}\n",
    "\n",
    "for j in range(len(resident)):\n",
    "    \n",
    "    for i in range(4):\n",
    "        \n",
    "        myDict[resident_head[i]] = resident[i]\n",
    "        \n",
    "        \n",
    "print(myDict)        \n"
   ]
  },
  {
   "cell_type": "code",
   "execution_count": null,
   "metadata": {},
   "outputs": [],
   "source": []
  }
 ],
 "metadata": {
  "kernelspec": {
   "display_name": "Python 3",
   "language": "python",
   "name": "python3"
  },
  "language_info": {
   "codemirror_mode": {
    "name": "ipython",
    "version": 3
   },
   "file_extension": ".py",
   "mimetype": "text/x-python",
   "name": "python",
   "nbconvert_exporter": "python",
   "pygments_lexer": "ipython3",
   "version": "3.7.3"
  }
 },
 "nbformat": 4,
 "nbformat_minor": 2
}
