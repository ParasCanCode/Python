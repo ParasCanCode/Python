{
 "cells": [
  {
   "cell_type": "code",
   "execution_count": 1,
   "metadata": {},
   "outputs": [
    {
     "ename": "UnsupportedOperation",
     "evalue": "not readable",
     "output_type": "error",
     "traceback": [
      "\u001b[1;31m---------------------------------------------------------------------------\u001b[0m",
      "\u001b[1;31mUnsupportedOperation\u001b[0m                      Traceback (most recent call last)",
      "\u001b[1;32m<ipython-input-1-fed970f772d4>\u001b[0m in \u001b[0;36m<module>\u001b[1;34m\u001b[0m\n\u001b[0;32m      1\u001b[0m \u001b[1;32mwith\u001b[0m \u001b[0mopen\u001b[0m\u001b[1;33m(\u001b[0m\u001b[1;34m\"lab4_textfile.txt\"\u001b[0m\u001b[1;33m,\u001b[0m\u001b[0mmode\u001b[0m\u001b[1;33m=\u001b[0m\u001b[1;34m\"w\"\u001b[0m\u001b[1;33m)\u001b[0m \u001b[1;32mas\u001b[0m \u001b[0mf\u001b[0m\u001b[1;33m:\u001b[0m\u001b[1;33m\u001b[0m\u001b[1;33m\u001b[0m\u001b[0m\n\u001b[1;32m----> 2\u001b[1;33m     \u001b[0mf\u001b[0m\u001b[1;33m.\u001b[0m\u001b[0mreadlines\u001b[0m\u001b[1;33m(\u001b[0m\u001b[1;33m)\u001b[0m\u001b[1;33m\u001b[0m\u001b[1;33m\u001b[0m\u001b[0m\n\u001b[0m\u001b[0;32m      3\u001b[0m \u001b[0mf\u001b[0m\u001b[1;33m.\u001b[0m\u001b[0mclose\u001b[0m\u001b[1;33m(\u001b[0m\u001b[1;33m)\u001b[0m\u001b[1;33m\u001b[0m\u001b[1;33m\u001b[0m\u001b[0m\n",
      "\u001b[1;31mUnsupportedOperation\u001b[0m: not readable"
     ]
    }
   ],
   "source": [
    "with open(\"lab4_textfile.txt\",mode=\"w\") as f:\n",
    "    f.readlines()\n",
    "f.close()"
   ]
  },
  {
   "cell_type": "code",
   "execution_count": 12,
   "metadata": {},
   "outputs": [
    {
     "name": "stdout",
     "output_type": "stream",
     "text": [
      "Exception caught\n",
      "Cleaning up!\n"
     ]
    }
   ],
   "source": [
    "try:\n",
    "    with open(\"lab4_textfile.txt\",mode=\"w\") as f:\n",
    "        read_data = f.read()\n",
    "        f.close()\n",
    "except:\n",
    "    print(\"Exception caught\")\n",
    "else:\n",
    "    f.close()\n",
    "finally:\n",
    "    print(\"Cleaning up!\")"
   ]
  },
  {
   "cell_type": "code",
   "execution_count": 37,
   "metadata": {},
   "outputs": [
    {
     "name": "stdout",
     "output_type": "stream",
     "text": [
      "This is my Exception class.\n",
      "Cleaning up!\n"
     ]
    }
   ],
   "source": [
    "class myException(Exception):\n",
    "    \n",
    "\n",
    "    def __init__(self,msg=\"This is my Exception class.\"):\n",
    "        \n",
    "        self.msg = msg\n",
    "    \n",
    "\n",
    "try:\n",
    "    with open(\"lab4_textfile.txt\",mode=\"w\") as f:\n",
    "        #read_data = f.read()\n",
    "        f.close()\n",
    "        raise myException\n",
    "except myException as e:\n",
    "    print(e.msg)\n",
    "else:\n",
    "    f.close()\n",
    "finally:\n",
    "    print(\"Cleaning up!\")\n"
   ]
  },
  {
   "cell_type": "code",
   "execution_count": 10,
   "metadata": {},
   "outputs": [
    {
     "name": "stdout",
     "output_type": "stream",
     "text": [
      "Complete n-D Array\n",
      "[[[ 0  1  2  3]\n",
      "  [ 4  5  6  7]\n",
      "  [ 8  9 10 11]]\n",
      "\n",
      " [[12 13 14 15]\n",
      "  [16 17 18 19]\n",
      "  [20 21 22 23]]]\n",
      "first set 0f 3X4\n",
      "[[ 0  1  2  3]\n",
      " [ 4  5  6  7]\n",
      " [ 8  9 10 11]]\n",
      "second row of data from the second set of 3 rows of data\n",
      "[16 17 18 19]\n",
      "all the data from the second column for both the first and second sets of rows and columns of data\n",
      "[[ 1  5  9]\n",
      " [13 17 21]]\n",
      "############################################################################\n",
      "[ 5 17]\n"
     ]
    },
    {
     "data": {
      "text/plain": [
       "array([[0, 1, 2],\n",
       "       [3, 4, 5],\n",
       "       [6, 7, 8]])"
      ]
     },
     "execution_count": 10,
     "metadata": {},
     "output_type": "execute_result"
    }
   ],
   "source": [
    "import numpy as np\n",
    "b = np.arange(24).reshape(2,3,4)\n",
    "print(\"Complete n-D Array\")\n",
    "print(b)\n",
    "print(\"first set 0f 3X4\")\n",
    "print(b[0])\n",
    "print(\"second row of data from the second set of 3 rows of data\")\n",
    "print(b[1][1])\n",
    "print(\"all the data from the second column for both the first and second sets of rows and columns of data\")\n",
    "print(b[:,:,1])\n",
    "print(\"############################################################################\")\n",
    "print(b[:,1,1])\n",
    "myMatrix = np.arange(9).reshape(3,3)\n",
    "myMatrix"
   ]
  },
  {
   "cell_type": "code",
   "execution_count": 69,
   "metadata": {},
   "outputs": [
    {
     "data": {
      "text/plain": [
       "array([ 0,  1,  2,  3,  4,  5,  6,  7,  8,  9, 10, 11, 12, 13, 14, 15, 16,\n",
       "       17, 18, 19, 20, 21, 22, 23])"
      ]
     },
     "execution_count": 69,
     "metadata": {},
     "output_type": "execute_result"
    }
   ],
   "source": [
    "flattened = b.flatten()\n",
    "flattened"
   ]
  },
  {
   "cell_type": "code",
   "execution_count": 65,
   "metadata": {},
   "outputs": [
    {
     "data": {
      "text/plain": [
       "array([ 0,  1,  2,  3,  4,  5,  6,  7,  8,  9, 10, 11, 12, 13, 14, 15, 16,\n",
       "       17, 18, 19, 20, 21, 22, 23])"
      ]
     },
     "execution_count": 65,
     "metadata": {},
     "output_type": "execute_result"
    }
   ],
   "source": [
    "ravelled = np.ravel(b)\n",
    "ravelled"
   ]
  },
  {
   "cell_type": "code",
   "execution_count": 70,
   "metadata": {},
   "outputs": [
    {
     "data": {
      "text/plain": [
       "array([[ 0,  1,  2,  3],\n",
       "       [ 4,  5,  6,  7],\n",
       "       [ 8,  9, 10, 11],\n",
       "       [12, 13, 14, 15],\n",
       "       [16, 17, 18, 19],\n",
       "       [20, 21, 22, 23]])"
      ]
     },
     "execution_count": 70,
     "metadata": {},
     "output_type": "execute_result"
    }
   ],
   "source": [
    "b.reshape(6,4)"
   ]
  },
  {
   "cell_type": "code",
   "execution_count": 87,
   "metadata": {},
   "outputs": [
    {
     "name": "stdout",
     "output_type": "stream",
     "text": [
      "[[ 0  4  8]\n",
      " [ 1  5  9]\n",
      " [ 2  6 10]\n",
      " [ 3  7 11]]\n",
      "[[12 16 20]\n",
      " [13 17 21]\n",
      " [14 18 22]\n",
      " [15 19 23]]\n"
     ]
    }
   ],
   "source": [
    "print(b[0].transpose())\n",
    "print(b[1].transpose())"
   ]
  },
  {
   "cell_type": "code",
   "execution_count": 96,
   "metadata": {},
   "outputs": [
    {
     "data": {
      "text/plain": [
       "array([[12, 16, 20],\n",
       "       [13, 17, 21],\n",
       "       [14, 18, 22],\n",
       "       [15, 19, 23],\n",
       "       [ 0,  4,  8],\n",
       "       [ 1,  5,  9],\n",
       "       [ 2,  6, 10],\n",
       "       [ 3,  7, 11]])"
      ]
     },
     "execution_count": 96,
     "metadata": {},
     "output_type": "execute_result"
    }
   ],
   "source": [
    "b_new=np.vstack((b[1].transpose(),b[0].transpose()))\n",
    "b_new"
   ]
  },
  {
   "cell_type": "code",
   "execution_count": 98,
   "metadata": {},
   "outputs": [],
   "source": [
    "split_array=np.hsplit(b_new,1)"
   ]
  },
  {
   "cell_type": "code",
   "execution_count": 104,
   "metadata": {},
   "outputs": [
    {
     "name": "stdout",
     "output_type": "stream",
     "text": [
      "[12 16 20]\n",
      "[13 17 21]\n",
      "[14 18 22]\n",
      "[15 19 23]\n",
      "[0 4 8]\n",
      "[1 5 9]\n",
      "[ 2  6 10]\n",
      "[ 3  7 11]\n"
     ]
    }
   ],
   "source": [
    "for i in range(len(split_array[0])):\n",
    "    print(split_array[0][i])"
   ]
  },
  {
   "cell_type": "code",
   "execution_count": 40,
   "metadata": {},
   "outputs": [
    {
     "name": "stdout",
     "output_type": "stream",
     "text": [
      "Means :  32099381.430278886  192.0617928486056\n"
     ]
    }
   ],
   "source": [
    "import numpy as np\n",
    "apple = np.loadtxt(fname=\"AAPL.csv\",delimiter=',',usecols=(4,6),dtype=None,encoding=\"Utf8\",skiprows=1)"
   ]
  },
  {
   "cell_type": "code",
   "execution_count": 46,
   "metadata": {},
   "outputs": [
    {
     "name": "stdout",
     "output_type": "stream",
     "text": [
      "Means :  32099381.430278886  192.0617928486056\n",
      "Median :  197.0\n",
      "Variance :  432.8804568188714\n"
     ]
    }
   ],
   "source": [
    "close_price = apple[0:,0]\n",
    "vol = apple[0:,1]\n",
    "print(\"Means :\",np.mean(avg_vol),np.mean(avg_close_price),sep=\"  \")\n",
    "print(\"Median :\",np.median(close_price),sep=\"  \")\n",
    "print(\"Variance :\",np.var(close_price),sep=\"  \")"
   ]
  },
  {
   "cell_type": "code",
   "execution_count": 45,
   "metadata": {},
   "outputs": [],
   "source": [
    "msft = np.loadtxt(fname=\"MSFT.csv\",delimiter=',',usecols=(2,3),dtype=None,encoding=\"Utf8\",skiprows=1)"
   ]
  },
  {
   "cell_type": "code",
   "execution_count": 48,
   "metadata": {},
   "outputs": [
    {
     "name": "stdout",
     "output_type": "stream",
     "text": [
      "142.369995 93.959999\n"
     ]
    }
   ],
   "source": [
    "high_price = msft[0:,0]\n",
    "low_price = msft[0:,1]\n",
    "print(max(high_price),min(low_price),sep=\" \")"
   ]
  },
  {
   "cell_type": "code",
   "execution_count": 49,
   "metadata": {},
   "outputs": [],
   "source": [
    "apple_5 = np.loadtxt(fname=\"AAPL.csv\",delimiter=',',usecols=(4),dtype=None,encoding=\"Utf8\",skiprows=1)\n",
    "msft_5 = np.loadtxt(fname=\"MSFT.csv\",delimiter=',',usecols=(4),dtype=None,encoding=\"Utf8\",skiprows=1)"
   ]
  },
  {
   "cell_type": "code",
   "execution_count": 57,
   "metadata": {},
   "outputs": [
    {
     "name": "stdout",
     "output_type": "stream",
     "text": [
      "[[434.60508015 186.97834783]\n",
      " [186.97834783 184.73421932]]\n",
      "[434.60508015 184.73421932]\n",
      "[[1.         0.65988802]\n",
      " [0.65988802 1.        ]]\n"
     ]
    }
   ],
   "source": [
    "covariance = np.cov(apple_5,msft_5)\n",
    "print(covariance)\n",
    "print(covariance.diagonal())\n",
    "corrcoef = np.corrcoef(apple_5,msft_5)\n",
    "print(corrcoef)"
   ]
  },
  {
   "cell_type": "code",
   "execution_count": null,
   "metadata": {},
   "outputs": [],
   "source": []
  }
 ],
 "metadata": {
  "kernelspec": {
   "display_name": "Python 3",
   "language": "python",
   "name": "python3"
  },
  "language_info": {
   "codemirror_mode": {
    "name": "ipython",
    "version": 3
   },
   "file_extension": ".py",
   "mimetype": "text/x-python",
   "name": "python",
   "nbconvert_exporter": "python",
   "pygments_lexer": "ipython3",
   "version": "3.7.3"
  }
 },
 "nbformat": 4,
 "nbformat_minor": 2
}
