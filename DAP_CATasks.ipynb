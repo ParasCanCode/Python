{
 "cells": [
  {
   "cell_type": "markdown",
   "metadata": {},
   "source": [
    "# Question 1"
   ]
  },
  {
   "cell_type": "code",
   "execution_count": 1,
   "metadata": {},
   "outputs": [],
   "source": [
    "import xml.etree.ElementTree as ET  #import library to work with XMLs\n",
    "import csv  #import library to work with CSVs\n",
    "import os"
   ]
  },
  {
   "cell_type": "code",
   "execution_count": 2,
   "metadata": {},
   "outputs": [],
   "source": [
    "\n",
    "\n",
    "#user-defined function to import XML file, parse and extract root\n",
    "def importXML(filename):\n",
    "    \n",
    "    if os.path.exists(filename):\n",
    "        with open(filename, 'rb') as f:\n",
    "            try:\n",
    "                # do stuff\n",
    "                tree = ET.parse(filename)\n",
    "                root = tree.getroot()\n",
    "                return root\n",
    "            except : \n",
    "                \n",
    "                # handle error\n",
    "                print(\"Exception caught!\")\n",
    "            finally:\n",
    "                f.close()\n",
    "    "
   ]
  },
  {
   "cell_type": "code",
   "execution_count": 3,
   "metadata": {},
   "outputs": [],
   "source": [
    "            \n",
    "root = importXML(\"theoDataset.xml\")\n",
    "\n",
    "# open a file for writing\n",
    "subject_data = open('subjectData.csv', 'w',newline=\"\")\n",
    "\n",
    "# create the csv writer object\n",
    "csvwriter = csv.writer(subject_data)\n",
    "\n",
    "#header list\n",
    "subject_head = []\n",
    "i=0\n",
    "count = 0\n",
    "for member in root.findall('subject'):\n",
    "    subject = [] #subject data list\n",
    "    if count == 0:\n",
    "        Id = member.find('id').tag\n",
    "        subject_head.append(Id)\n",
    "        weight = member.find('weight').tag\n",
    "        subject_head.append(weight)\n",
    "        dose = member.find('dose').tag\n",
    "        subject_head.append(dose)\n",
    "        time = member.find('time').tag\n",
    "        subject_head.append(time)\n",
    "        conc = member.find('conc').tag\n",
    "        subject_head.append(conc)\n",
    "        csvwriter.writerow(subject_head)\n",
    "        count = count + 1      # count increased after extracting the header row  \n",
    "\n",
    "    Id = member.find('id').text\n",
    "    subject.append(Id)\n",
    "    weight = member.find('weight').text\n",
    "    subject.append(weight)\n",
    "    dose = member.find('dose').text\n",
    "    subject.append(dose)\n",
    "    time = member.find('time').text\n",
    "    subject.append(time)\n",
    "    conc = member.find('conc').text\n",
    "    subject.append(conc)\n",
    "    \n",
    "    csvwriter.writerow(subject) #write the extracted data into a csv\n",
    "    \n",
    "subject_data.close()   #closing the subject_data file and handler"
   ]
  },
  {
   "cell_type": "code",
   "execution_count": 22,
   "metadata": {},
   "outputs": [
    {
     "name": "stdout",
     "output_type": "stream",
     "text": [
      "Row 0 : 7 85.2 4.6 17.66 8.2\n",
      "Row 2 : 16 88.5 3.7 11.33 10.03\n",
      "Row 4 : 4 83.1 4.8 5.19 7.57\n",
      "Row 6 : 9 86.7 3.8 18.68 4.12\n",
      "Row 8 : 8 75.5 3.2 2.96 0.58\n",
      "Row 10 : 14 68.8 5.4 24.21 3.77\n"
     ]
    }
   ],
   "source": [
    "root = importXML(\"theoDataset.xml\")\n",
    "count = 0\n",
    "for member in root.findall('subject'):\n",
    "    if count<=11:\n",
    "        if count%2!=0:\n",
    "            count=count+1            \n",
    "        else:\n",
    "            print(\"Row\",count,\":\",end=\" \")\n",
    "            print(member.find('id').text,member.find('weight').text,member.find('dose').text,member.find('time').text,member.find('conc').text)\n",
    "            count+=1"
   ]
  },
  {
   "cell_type": "code",
   "execution_count": 4,
   "metadata": {},
   "outputs": [
    {
     "name": "stdout",
     "output_type": "stream",
     "text": [
      "Record 1  : ['7', '85.2', '4.6', '17.66', '8.2']\n",
      "Record 3  : ['16', '88.5', '3.7', '11.33', '10.03']\n",
      "Record 5  : ['4', '83.1', '4.8', '5.19', '7.57']\n",
      "Record 7  : ['9', '86.7', '3.8', '18.68', '4.12']\n",
      "Record 9  : ['8', '75.5', '3.2', '2.96', '0.58']\n",
      "Record 11  : ['14', '68.8', '5.4', '24.21', '3.77']\n"
     ]
    }
   ],
   "source": [
    "newList = []\n",
    "#code to open and read a csv file\n",
    "with open(\"subjectData.csv\",newline=\"\") as f:\n",
    "    reader = csv.reader(f)\n",
    "    for row in reader:\n",
    "        newList.append(row)\n",
    "f.close()\n",
    "#len(newList)\n",
    "for i in range(1,12,2):\n",
    "    print(\"Record\",i,\" :\",newList[i],sep=\" \")\n",
    "    "
   ]
  },
  {
   "cell_type": "markdown",
   "metadata": {},
   "source": [
    "# Question 2"
   ]
  },
  {
   "cell_type": "code",
   "execution_count": 7,
   "metadata": {},
   "outputs": [],
   "source": [
    "#Part a\n",
    "import numpy as np\n",
    "array = np.arange(800).reshape((200,4))"
   ]
  },
  {
   "cell_type": "code",
   "execution_count": 22,
   "metadata": {},
   "outputs": [],
   "source": [
    "#Part b\n",
    "split_Array = np.vsplit(array,5)\n",
    "array1 = split_Array[0]\n",
    "array2 = split_Array[1]\n",
    "array3 = split_Array[2]\n",
    "array4 = split_Array[3]\n",
    "array5 = split_Array[4]"
   ]
  },
  {
   "cell_type": "code",
   "execution_count": 26,
   "metadata": {},
   "outputs": [
    {
     "name": "stdout",
     "output_type": "stream",
     "text": [
      "[[  0   1   2   3   4   5   6   7   8   9  10  11  12  13  14  15  16  17\n",
      "   18  19  20  21  22  23  24  25  26  27  28  29  30  31  32  33  34  35\n",
      "   36  37  38  39  40  41  42  43  44  45  46  47  48  49  50  51  52  53\n",
      "   54  55  56  57  58  59  60  61  62  63  64  65  66  67  68  69  70  71\n",
      "   72  73  74  75  76  77  78  79  80  81  82  83  84  85  86  87  88  89\n",
      "   90  91  92  93  94  95  96  97  98  99 100 101 102 103 104 105 106 107\n",
      "  108 109 110 111 112 113 114 115 116 117 118 119 120 121 122 123 124 125\n",
      "  126 127 128 129 130 131 132 133 134 135 136 137 138 139 140 141 142 143\n",
      "  144 145 146 147 148 149 150 151 152 153 154 155 156 157 158 159]]\n",
      "[[320 321 322 323 324 325 326 327 328 329 330 331 332 333 334 335 336 337\n",
      "  338 339 340 341 342 343 344 345 346 347 348 349 350 351 352 353 354 355\n",
      "  356 357 358 359 360 361 362 363 364 365 366 367 368 369 370 371 372 373\n",
      "  374 375 376 377 378 379 380 381 382 383 384 385 386 387 388 389 390 391\n",
      "  392 393 394 395 396 397 398 399]\n",
      " [400 401 402 403 404 405 406 407 408 409 410 411 412 413 414 415 416 417\n",
      "  418 419 420 421 422 423 424 425 426 427 428 429 430 431 432 433 434 435\n",
      "  436 437 438 439 440 441 442 443 444 445 446 447 448 449 450 451 452 453\n",
      "  454 455 456 457 458 459 460 461 462 463 464 465 466 467 468 469 470 471\n",
      "  472 473 474 475 476 477 478 479]]\n",
      "[[640 641 642 643 644 645 646 647 648 649 650 651 652 653 654 655]\n",
      " [656 657 658 659 660 661 662 663 664 665 666 667 668 669 670 671]\n",
      " [672 673 674 675 676 677 678 679 680 681 682 683 684 685 686 687]\n",
      " [688 689 690 691 692 693 694 695 696 697 698 699 700 701 702 703]\n",
      " [704 705 706 707 708 709 710 711 712 713 714 715 716 717 718 719]\n",
      " [720 721 722 723 724 725 726 727 728 729 730 731 732 733 734 735]\n",
      " [736 737 738 739 740 741 742 743 744 745 746 747 748 749 750 751]\n",
      " [752 753 754 755 756 757 758 759 760 761 762 763 764 765 766 767]\n",
      " [768 769 770 771 772 773 774 775 776 777 778 779 780 781 782 783]\n",
      " [784 785 786 787 788 789 790 791 792 793 794 795 796 797 798 799]]\n"
     ]
    }
   ],
   "source": [
    "#Part c\n",
    "array1 = array1.reshape(1,160)\n",
    "array3 = array3.reshape(2,80)\n",
    "array5 = array5.reshape(10,16)\n",
    "print(array1)\n",
    "print(array3)\n",
    "print(array5)"
   ]
  },
  {
   "cell_type": "code",
   "execution_count": 27,
   "metadata": {},
   "outputs": [
    {
     "data": {
      "text/plain": [
       "[array([[480, 481],\n",
       "        [484, 485],\n",
       "        [488, 489],\n",
       "        [492, 493],\n",
       "        [496, 497],\n",
       "        [500, 501],\n",
       "        [504, 505],\n",
       "        [508, 509],\n",
       "        [512, 513],\n",
       "        [516, 517],\n",
       "        [520, 521],\n",
       "        [524, 525],\n",
       "        [528, 529],\n",
       "        [532, 533],\n",
       "        [536, 537],\n",
       "        [540, 541],\n",
       "        [544, 545],\n",
       "        [548, 549],\n",
       "        [552, 553],\n",
       "        [556, 557],\n",
       "        [560, 561],\n",
       "        [564, 565],\n",
       "        [568, 569],\n",
       "        [572, 573],\n",
       "        [576, 577],\n",
       "        [580, 581],\n",
       "        [584, 585],\n",
       "        [588, 589],\n",
       "        [592, 593],\n",
       "        [596, 597],\n",
       "        [600, 601],\n",
       "        [604, 605],\n",
       "        [608, 609],\n",
       "        [612, 613],\n",
       "        [616, 617],\n",
       "        [620, 621],\n",
       "        [624, 625],\n",
       "        [628, 629],\n",
       "        [632, 633],\n",
       "        [636, 637]]), array([[482, 483],\n",
       "        [486, 487],\n",
       "        [490, 491],\n",
       "        [494, 495],\n",
       "        [498, 499],\n",
       "        [502, 503],\n",
       "        [506, 507],\n",
       "        [510, 511],\n",
       "        [514, 515],\n",
       "        [518, 519],\n",
       "        [522, 523],\n",
       "        [526, 527],\n",
       "        [530, 531],\n",
       "        [534, 535],\n",
       "        [538, 539],\n",
       "        [542, 543],\n",
       "        [546, 547],\n",
       "        [550, 551],\n",
       "        [554, 555],\n",
       "        [558, 559],\n",
       "        [562, 563],\n",
       "        [566, 567],\n",
       "        [570, 571],\n",
       "        [574, 575],\n",
       "        [578, 579],\n",
       "        [582, 583],\n",
       "        [586, 587],\n",
       "        [590, 591],\n",
       "        [594, 595],\n",
       "        [598, 599],\n",
       "        [602, 603],\n",
       "        [606, 607],\n",
       "        [610, 611],\n",
       "        [614, 615],\n",
       "        [618, 619],\n",
       "        [622, 623],\n",
       "        [626, 627],\n",
       "        [630, 631],\n",
       "        [634, 635],\n",
       "        [638, 639]])]"
      ]
     },
     "execution_count": 27,
     "metadata": {},
     "output_type": "execute_result"
    }
   ],
   "source": [
    "#Part d\n",
    "np.hsplit(array2,2)\n",
    "np.hsplit(array4,2)"
   ]
  },
  {
   "cell_type": "markdown",
   "metadata": {},
   "source": [
    "# Question 3 Part a"
   ]
  },
  {
   "cell_type": "code",
   "execution_count": 40,
   "metadata": {},
   "outputs": [
    {
     "name": "stdout",
     "output_type": "stream",
     "text": [
      "Betty Botter bought a bit of {butter}\n",
      "But, she said, this butter’s bitter\n",
      "If I put it in my {batter}\n",
      "It will make my batter bitter\n",
      "But a bit of better {butter}\n",
      "Will make my batter {better}\n",
      "So ’twas better Betty Botter bought a bit of better {butter}\n",
      "\n",
      "\n"
     ]
    }
   ],
   "source": [
    "import re #importing re library to work with regular expressions\n",
    "\n",
    "#user-defined function to highlight text in string input\n",
    "def re_show(pattern,s):\n",
    "    \n",
    "    #compiling regex, then finding the match with whitespace stripped match and lastly adding {} around match \n",
    "    print(re.compile(pattern,re.M).sub(\"{\\g<0>}\",s.rstrip()))\n",
    "    print(\"\\n\")\n",
    "\n",
    "#given string input    \n",
    "s = \"\"\"Betty Botter bought a bit of butter\n",
    "But, she said, this butter’s bitter\n",
    "If I put it in my batter\n",
    "It will make my batter bitter\n",
    "But a bit of better butter\n",
    "Will make my batter better\n",
    "So ’twas better Betty Botter bought a bit of better butter\n",
    "\"\"\"    \n",
    "\n",
    "#calling the function\n",
    "re_show(r\"butter$|batter$|better$\",s)  "
   ]
  },
  {
   "cell_type": "markdown",
   "metadata": {},
   "source": [
    "# Question 3 Part b"
   ]
  },
  {
   "cell_type": "code",
   "execution_count": 41,
   "metadata": {},
   "outputs": [
    {
     "name": "stdout",
     "output_type": "stream",
     "text": [
      "{Betty} Botter bought a bit of {butter}\n",
      "But, she said, this butter’s bitter\n",
      "If I put it in my {batter}\n",
      "It will make my batter bitter\n",
      "But a bit of better {butter}\n",
      "Will make my batter {better}\n",
      "So ’twas better {Betty} Botter bought a bit of better {butter}\n",
      "\n",
      "\n"
     ]
    }
   ],
   "source": [
    "import re #importing re library to work with regular expressions, however, it's redundant here as already imported above\n",
    "\n",
    "#user-defined function to highlight text in string input\n",
    "def re_show(pattern,s):\n",
    "    print(re.compile(pattern,re.M).sub(\"{\\g<0>}\",s.rstrip()))\n",
    "    print(\"\\n\")\n",
    "    \n",
    "\n",
    "#given string input        \n",
    "s = \"\"\"Betty Botter bought a bit of butter\n",
    "But, she said, this butter’s bitter\n",
    "If I put it in my batter\n",
    "It will make my batter bitter\n",
    "But a bit of better butter\n",
    "Will make my batter better\n",
    "So ’twas better Betty Botter bought a bit of better butter\n",
    "\"\"\"    \n",
    "\n",
    "#calling the function\n",
    "re_show(r\"butter$|batter$|better$|Betty\",s)"
   ]
  },
  {
   "cell_type": "code",
   "execution_count": null,
   "metadata": {},
   "outputs": [],
   "source": []
  }
 ],
 "metadata": {
  "kernelspec": {
   "display_name": "Python 3",
   "language": "python",
   "name": "python3"
  },
  "language_info": {
   "codemirror_mode": {
    "name": "ipython",
    "version": 3
   },
   "file_extension": ".py",
   "mimetype": "text/x-python",
   "name": "python",
   "nbconvert_exporter": "python",
   "pygments_lexer": "ipython3",
   "version": "3.7.3"
  }
 },
 "nbformat": 4,
 "nbformat_minor": 2
}
